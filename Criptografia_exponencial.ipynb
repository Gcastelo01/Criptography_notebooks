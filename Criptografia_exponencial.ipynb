{
 "cells": [
  {
   "cell_type": "markdown",
   "metadata": {},
   "source": [
    "# Cifra Exponencial\n",
    "<ul>\n",
    "<li>Criptografia mais segura do que a criptografia afim </li>\n",
    "<li>Trabalha com a codificação de blocos, não com codificação letra-a-letra </li>\n",
    "<li>O bloco é primeiro codificado, em seguida é encriptado.</li>\n",
    "</ul>\n"
   ]
  },
  {
   "cell_type": "markdown",
   "metadata": {},
   "source": [
    "### Codificando um bloco:\n",
    "Para criptografar um bloco, primeiro separamos um tamanho $N$ para os blocos. Em seguida, dado um número $B$ de caracteres, é realizada a seguinte conta:\n",
    "\n",
    "$$\n",
    "[c_1 c_2 ... c_N-1] = \\sum_{i = 0}^{N - 1} C_i * B^i = K_x\n",
    "$$\n",
    "\n",
    "É notável que a codificação é inversível, portanto pode se obter o bloco através de $K_x$.\n"
   ]
  },
  {
   "cell_type": "markdown",
   "metadata": {},
   "source": [
    "### Criptografando um Bloco:\n",
    "\n",
    "* Tendo o texto separado em blocos:\n",
    "$\n",
    "\\overbrace{[c_1c_2...c_N]}^{1^o \\ bloco}\n",
    "\\overbrace{[c_{N+1}c_{N+2}...c_{2N}]}^{2^o \\ bloco} ...\n",
    "$\n",
    "* O n-ésimo bloco é codificado com $K_n \\in \\mathbb{Z}$\n",
    "* Seja um primo $P > K_n$ \n",
    "* Seja $ e \\in \\left\\{ 2, ..., P - 1 \\right\\} $ um número _inversível_\n",
    "  * $e$ é a chave da criptografia\n",
    "* Seja $ d \\in \\left\\{2, ..., P-1 \\right\\}$ o inverso de $e \\ mod \\ P-1$\n",
    "  * $d$ será chave de descriptografia.\n",
    "* A mensagem será um número $a \\in \\left\\{0, ... P-1 \\right\\}$\n",
    "* A mensagem será _criptografada_ como:\n",
    "$$\n",
    "b = C(a) = a^e \\ mod \\ P\n",
    "$$\n",
    "* A mensagem será _descriptografada_ como:\n",
    "$$\n",
    "D(a) = b^d \\ mod \\ P\n",
    "$$\n",
    "* Note que\n",
    "$$\n",
    "D(C(a)) = a\\\\\n",
    "e * d = K (P-1) + 1\n",
    "$$\n",
    "\n"
   ]
  },
  {
   "cell_type": "markdown",
   "metadata": {},
   "source": [
    "### Codificando os números:\n",
    "* À seguir, criamos funções para codificar e descodificar um bloco, de acordo com o número do mesmo"
   ]
  },
  {
   "cell_type": "code",
   "execution_count": 1,
   "metadata": {},
   "outputs": [],
   "source": [
    "\n",
    "def codifica_bloco(mesg:str, size=20) -> list:\n",
    "  \"\"\"Função para codificar uma mensagem de acordo com o tamanho do Bloco\"\"\"\n",
    "  \n",
    "  bloco, n =  0, 0\n",
    "  lista = []\n",
    "  l_final = []\n",
    "  \n",
    "  while(n + size <= len(mesg)):\n",
    "    lista.append(mesg[n:n + size])\n",
    "    n += size\n",
    "    \n",
    "  if len(mesg)%size != 0:\n",
    "    blocos_criados = (len(mesg) // size)\n",
    "    lista.append(mesg[(blocos_criados * size):])\n",
    "\n",
    "  for i in lista:\n",
    "    mes = i\n",
    "    \n",
    "    for idx, s in enumerate(mes):\n",
    "      bloco += ord(s) * 256**idx \n",
    "      \n",
    "    l_final.append(bloco)\n",
    "    bloco = 0\n",
    "    \n",
    "  return l_final\n",
    "\n",
    "\n",
    "def decodifica_bloco(num):\n",
    "  \"\"\"Função para descodificar uma mensagem em blocos.\"\"\"\n",
    "  b = []\n",
    "\n",
    "  for i in num:\n",
    "    a = []\n",
    "    c = []\n",
    "    \n",
    "    while i > 0:\n",
    "      a.append(i%256)\n",
    "      i = i//256\n",
    "\n",
    "    \n",
    "    for j in a:\n",
    "      c.append(chr(j))\n",
    "    b.append(str(c).strip().replace(',', '').replace('[', '').replace(']', ' ').replace(\"'\", ''))\n",
    "    \n",
    "  return b"
   ]
  },
  {
   "cell_type": "code",
   "execution_count": 2,
   "metadata": {},
   "outputs": [
    {
     "name": "stdout",
     "output_type": "stream",
     "text": [
      "Pré-Codificação: [478560413000, 465776367392, 464949092708, 418530878823, 63]\n",
      "Decodificação: ['H e l l o ', '  W o r l ', 'd !   A l ', 'g e b r a ', '? '] \n"
     ]
    }
   ],
   "source": [
    "#Altere aqui a mensagem e o número de blocos que deseja em cada mensagem\n",
    "\n",
    "mensagem = 'Hello World! Algebra?'\n",
    "pre_cod = codifica_bloco(mensagem, 5)\n",
    "decod = decodifica_bloco(pre_cod)\n",
    "\n",
    "print(f'Pré-Codificação: {pre_cod}')\n",
    "print(f'Decodificação: {decod} ')"
   ]
  },
  {
   "cell_type": "markdown",
   "metadata": {},
   "source": [
    "### Criptografando a mensagem\n",
    "Evidentemente que a mensagem codificada **não é** uma mensagem criptografada. À seguir, iremos criptografar as mensagens por meio da criptografia exponencial, cuja teoria está explicitada acima."
   ]
  },
  {
   "cell_type": "code",
   "execution_count": 3,
   "metadata": {},
   "outputs": [],
   "source": [
    "# Aqui serão definidas funções\n",
    "\n",
    "def XMDC(a, b):\n",
    "  \"\"\"Algoritmo Extendido de Euclides, para cálculo das equações modulares\"\"\"\n",
    "  x0, x = 1, 0\n",
    "  y0, y = 0, 1\n",
    "  \n",
    "  sign_a, sign_b = 1,  1\n",
    "  if a < 0:\n",
    "    a = -a\n",
    "    sign_a = -1\n",
    "  \n",
    "  if b < 0:\n",
    "    b = -b\n",
    "    sign_b = -1\n",
    "    \n",
    "  while b > 0:\n",
    "    q, r = a//b, a%b\n",
    "    a, b = b, r\n",
    "    \n",
    "    x, x0 = x0 - q * x, x\n",
    "    y, y0 = y0 - q * y, y\n",
    "    \n",
    "  return a, sign_a * x0, sign_b * y0\n",
    "\n",
    "def ExpModN(a, e, n):\n",
    "  \"\"\"Calcula a^e mod n\"\"\"\n",
    "  A, P, E = a, 1, e\n",
    "  while E != 0:\n",
    "    D = E % 2\n",
    "    \n",
    "    if D == 1:\n",
    "      P = (A*P) % n\n",
    "      E = (E-1)//2\n",
    "      \n",
    "    else:\n",
    "      E = E//2\n",
    "      \n",
    "    A = (A*A) % n\n",
    "    \n",
    "  return P\n",
    "\n",
    "def inverso_modular(a, n):\n",
    "  \"\"\"Calcula o inverso modular de a em Zn\"\"\"\n",
    "  d, u, v = XMDC(a, n)\n",
    "  \n",
    "  if d !=1: \n",
    "    return False\n",
    "  \n",
    "  u %= n\n",
    "  \n",
    "  if u < 0: \n",
    "    u += n\n",
    "    \n",
    "  return u\n",
    "\n",
    "# Função para criptografar com o número e\n",
    "cripto_exp = lambda n, p, e: ExpModN(n, e, p)\n",
    "\n",
    "# Função para descriptografar com número d\n",
    "decripto_exp = lambda n, p, d: ExpModN(n, d, p)"
   ]
  },
  {
   "cell_type": "code",
   "execution_count": null,
   "metadata": {},
   "outputs": [],
   "source": [
    "# Para criptografarmos, utilizaremos um primo p = 2**607 - 1 (primo grande encontrado na wikipédia)\n",
    "from random import randint\n",
    "\n",
    "p = 2 ** 607 -1\n",
    "\n",
    "d = False\n",
    "e = 0\n",
    "\n",
    "while not(d):\n",
    "  e = randint(1, p-1)\n",
    "  d = inverso_modular(e, p-1)\n",
    "\n",
    "# Insira aqui a mensagem que deseja ciptografar\n",
    "mensagem = \"\"\n",
    "codificado = codifica_bloco(mensagem)\n",
    "\n",
    "cripto = []\n",
    "\n",
    "for i in codificado:\n",
    "  cripto.append(cripto_exp(i, p, e))\n",
    "  \n",
    "decripto = []\n",
    "\n",
    "for i in cripto:\n",
    "  decripto.append(decripto_exp(i, p, d))\n",
    "  \n",
    "decod = decodifica_bloco(decripto)\n",
    "\n",
    "print(f\"\"\"Mensagem Original: {mensagem} \\n\n",
    "Mensagem Codificada: {codificado} \\n\n",
    "Mensagem Criptografada: {cripto} \\n\n",
    "Mensagem Descriptografada: {decripto} \\n\n",
    "Mensagem Decodificada: {decod}\"\"\")"
   ]
  },
  {
   "cell_type": "markdown",
   "metadata": {},
   "source": [
    "## Resumo Geral\n",
    "A criptografia funciona de modo a permitir que apenas os indivíduos que possuam as chaves de criptografia $e$ e descriptografia $d$ tenham acesso à mensagem. \n",
    "Supondo dois indivíduos Alice e Bob, a troca de mensagens entre eles poderia ser representada por:\n",
    "$$\n",
    "\\overbrace{Alice}^{Possui\\ chave\\ e} \\to\\ {mensagem \\ é \\ codificada}\\ \\to\\ {mensagem\\ é\\ criptografada} \\to\\ \\overbrace{Bob}^{Possui\\ chave\\ d} \\to\\ {Mensagem\\ é\\ descriptografada} \\to\\ {Mensagem \\ é \\ decodificada}\n",
    "$$\n"
   ]
  }
 ],
 "metadata": {
  "kernelspec": {
   "display_name": "Python 3.8.10 ('ICD': venv)",
   "language": "python",
   "name": "python3"
  },
  "language_info": {
   "codemirror_mode": {
    "name": "ipython",
    "version": 3
   },
   "file_extension": ".py",
   "mimetype": "text/x-python",
   "name": "python",
   "nbconvert_exporter": "python",
   "pygments_lexer": "ipython3",
   "version": "3.8.10"
  },
  "orig_nbformat": 4,
  "vscode": {
   "interpreter": {
    "hash": "4c824f1dba48131dbca3b5284fcd01757dd976051961761920f7979a38fc38db"
   }
  }
 },
 "nbformat": 4,
 "nbformat_minor": 2
}
