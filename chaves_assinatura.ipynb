{
 "cells": [
  {
   "cell_type": "markdown",
   "metadata": {},
   "source": [
    "# Assinatura digital\n",
    "Nas suposições feitas até então sobre criptografia, criamos duas pessoas teóricas, nossos amigos Alice e Bob, que trocavam mensagens secretas um com o outro. Alice e Bob não queriam que Eva, uma terceira pessoa, lesse as mensagens. Os métodos de criptografia que vimos (Afim, exponencial e RSA), se provam bastante efetivos, devido à dificuldade de se calcular ou fatorar números primos.\n",
    "\n",
    "Todavia, o que acontece se Eva for extremamente inteligente e conseguir decifrar a criptografia? Como Bob pode _comprovar_ que o remetente era, de fato, Alice? Isso é feito por meio da Assinatura digital."
   ]
  },
  {
   "cell_type": "markdown",
   "metadata": {},
   "source": [
    "## Como Implementar uma Assinatura digital?\n",
    "1. Alice e Bob irão escolher suas funções de Codificação ($C_a\\ e\\ C_b$) e Decodificação ($D_a\\ e\\ D_b$).\n",
    "\n",
    "2. Alice quer enviar uma mensagem para Bob (como sempre). Para isso, ela irá:\n",
    "    1. Criptografar a mensagem $b$ calculando $c = C_b(b) $\n",
    "    2. Anexar a \"Assinatura\" $a = D_a(b)$.\n",
    "3. Bob, recebendo as mensagens $c$ e $a$, fará o seguinte:\n",
    "    1. Descriptografará $c$ usando sua chave de decriptografia ($b = D_b(c)$)\n",
    "    2. Aplicará a função de codificação de Alice ($C_a$) na assinatura $a$, e verifica se $b = C_a(a) = D_b(c)$\n",
    "\n",
    "Se a igualdade acima for verdadeira, quer dizer que a mensagem realmente foi enviada pela Alice, mantendo a confiabilidade do canal."
   ]
  },
  {
   "cell_type": "markdown",
   "metadata": {},
   "source": [
    "### Exemplo de assinatura digital\n",
    "Supondo que mantemos os dados do exemplo anterior (Notebook de criptografia RSA), com a chave pública de Bob sendo (53, 53531),\n",
    "e a chave privada sendo (24029, 53064). Precisaremos escolher uma chave pública e privada para Alice também."
   ]
  },
  {
   "cell_type": "code",
   "execution_count": 1,
   "metadata": {},
   "outputs": [],
   "source": [
    "def codifica_bloco(mesg:str, size=20) -> list:\n",
    "  \"\"\"Função para codificar uma mensagem de acordo com o tamanho do Bloco\"\"\"\n",
    "  \n",
    "  bloco, n =  0, 0\n",
    "  lista = []\n",
    "  l_final = []\n",
    "  \n",
    "  while(n + size <= len(mesg)):\n",
    "    lista.append(mesg[n:n + size])\n",
    "    n += size\n",
    "    \n",
    "  if len(mesg)%size != 0:\n",
    "    blocos_criados = (len(mesg) // size)\n",
    "    lista.append(mesg[(blocos_criados * size):])\n",
    "\n",
    "  for i in lista:\n",
    "    mes = i\n",
    "    \n",
    "    for idx, s in enumerate(mes):\n",
    "      bloco += ord(s) * 256**idx \n",
    "      \n",
    "    l_final.append(bloco)\n",
    "    bloco = 0\n",
    "    \n",
    "  return l_final\n",
    "\n",
    "\n",
    "def decodifica_bloco(num):\n",
    "  \"\"\"Função para descodificar uma mensagem em blocos.\"\"\"\n",
    "  b = []\n",
    "\n",
    "  for i in num:\n",
    "    a = []\n",
    "    c = []\n",
    "    \n",
    "    while i > 0:\n",
    "      a.append(i%256)\n",
    "      i = i//256\n",
    "\n",
    "    \n",
    "    for j in a:\n",
    "      c.append(chr(j))\n",
    "    b.append(str(c).strip().replace(',', '').replace('[', '').replace(']', ' ').replace(\"'\", ''))\n",
    "    \n",
    "  return b\n",
    "\n",
    "# Aqui serão definidas funções\n",
    "\n",
    "def XMDC(a, b):\n",
    "  \"\"\"Algoritmo Extendido de Euclides, para cálculo das equações modulares\"\"\"\n",
    "  x0, x = 1, 0\n",
    "  y0, y = 0, 1\n",
    "  \n",
    "  sign_a, sign_b = 1,  1\n",
    "  if a < 0:\n",
    "    a = -a\n",
    "    sign_a = -1\n",
    "  \n",
    "  if b < 0:\n",
    "    b = -b\n",
    "    sign_b = -1\n",
    "    \n",
    "  while b > 0:\n",
    "    q, r = a//b, a%b\n",
    "    a, b = b, r\n",
    "    \n",
    "    x, x0 = x0 - q * x, x\n",
    "    y, y0 = y0 - q * y, y\n",
    "    \n",
    "  return a, sign_a * x0, sign_b * y0\n",
    "\n",
    "def ExpModN(a, e, n):\n",
    "  \"\"\"Calcula a^e mod n\"\"\"\n",
    "  A, P, E = a, 1, e\n",
    "  while E != 0:\n",
    "    D = E % 2\n",
    "    \n",
    "    if D == 1:\n",
    "      P = (A*P) % n\n",
    "      E = (E-1)//2\n",
    "      \n",
    "    else:\n",
    "      E = E//2\n",
    "      \n",
    "    A = (A*A) % n\n",
    "    \n",
    "  return P\n",
    "\n",
    "def inverso_modular(a, n):\n",
    "  \"\"\"Calcula o inverso modular de a em Zn\"\"\"\n",
    "  d, u, v = XMDC(a, n)\n",
    "  \n",
    "  if d !=1: \n",
    "    return False\n",
    "  \n",
    "  u %= n\n",
    "  \n",
    "  if u < 0: \n",
    "    u += n\n",
    "    \n",
    "  return u\n",
    "\n",
    "criptografa = lambda b, e, n: (b**e) % n\n",
    "descriptografa = lambda c, d, n: (c**d) % n "
   ]
  },
  {
   "cell_type": "code",
   "execution_count": 30,
   "metadata": {},
   "outputs": [],
   "source": [
    "#Definindo aqui os primos e chaves para ambos os indivíduos\n",
    "p_b, q_b = 269, 199\n",
    "p_a, q_a = 311, 263\n",
    "\n",
    "# Calculando n\n",
    "n_a = p_a*q_a\n",
    "n_b = p_b*q_b\n",
    "\n",
    "# Calculando Phi_n\n",
    "phi_a = (p_a - 1)*(q_a - 1)\n",
    "phi_b = (p_b - 1)*(q_b - 1)\n",
    "\n",
    "# Definindo valor e | mdc(e, phi) = 1\n",
    "e_a = 53\n",
    "e_b = 53\n",
    "\n",
    "# Definindo o valor \n",
    "d_a = inverso_modular(e_a, phi_a)\n",
    "d_b = inverso_modular(e_b, phi_b)\n",
    "\n",
    "# Chaves\n",
    "c_publica_a, c_privada_a = (n_a, e_a), (phi_a, d_a)\n",
    "c_publica_b, c_privada_b = (n_b, e_b), (phi_b, d_b)\n",
    " "
   ]
  },
  {
   "cell_type": "code",
   "execution_count": 31,
   "metadata": {},
   "outputs": [
    {
     "name": "stdout",
     "output_type": "stream",
     "text": [
      "Mensagem Codificada: 26959\n",
      "Mensagem Criptografada: 37220\n",
      "Assinatura: 14907\n"
     ]
    }
   ],
   "source": [
    "# Aqui teremos alice criptografando e assinando uma mensagem.\n",
    "mensagem = \"Oi\"\n",
    "\n",
    "# Codificando mensagem\n",
    "mensagem_cod = codifica_bloco(mensagem, 6)[0]\n",
    "\n",
    "#Criptografando Mensagem\n",
    "mensagem_cripto = criptografa(mensagem_cod, e_b, n_b)\n",
    "\n",
    "# Gerando assinatura\n",
    "assinatura = descriptografa(mensagem_cod, d_a, n_a)\n",
    "\n",
    "mensagem_alice = (mensagem_cripto, assinatura)\n",
    "print(f\"\"\"Mensagem Codificada: {mensagem_cod}\\nMensagem Criptografada: {mensagem_cripto}\\nAssinatura: {assinatura}\"\"\")"
   ]
  },
  {
   "cell_type": "code",
   "execution_count": 35,
   "metadata": {},
   "outputs": [
    {
     "name": "stdout",
     "output_type": "stream",
     "text": [
      "['O i ']\n",
      "Mensagem Descriptografada: 26959\n",
      "Assinatura Decod: 26959\n",
      "Assinatura é igual à Mensagem? True\n"
     ]
    }
   ],
   "source": [
    "# Agora, Bob, em posse da mensagem assinada, irá descriptografar\n",
    "\n",
    "# Desempacotando\n",
    "mensagem, assinatura = mensagem_alice\n",
    "\n",
    "# Descriptografando\n",
    "mensagem_decrip = descriptografa(mensagem, d_b, n_b)\n",
    "\n",
    "# Decodificando Assinatura\n",
    "assinatura = criptografa(assinatura, e_a, n_a)\n",
    "\n",
    "# Decodificando Mensagem se for igual à assinatura:\n",
    "if assinatura == mensagem_decrip:\n",
    "  m = decodifica_bloco([mensagem_decrip])\n",
    "  print(m)\n",
    "  \n",
    "# Por fim, verificamos:\n",
    "print(f\"\"\"Mensagem Descriptografada: {mensagem_decrip}\\nAssinatura Decod: {assinatura}\\nAssinatura é igual à Mensagem? {assinatura == mensagem_decrip}\"\"\")"
   ]
  },
  {
   "cell_type": "markdown",
   "metadata": {},
   "source": [
    "## Troca de Chaves Diffie-Hellman\n",
    "\n",
    "Uma outra situaçao possível é Alice e Bob quererem utilizar uma chave em comum para trabalhar a troca de mensagens, pelo motivo que for. Todavia, como já vimos, se Bob enviar a chave privada para Alice, Eva poderá ver tal chave e, eventualmente, decodificar mensagens secretas entre os dois. É necessário um meio de enviar a chave por um canal aberto, portanto, sem que esta possa ser lida. O procedimento de Diffie-Hellman soluciona este problema, e é baseado no fato de não conhecermos solução eficiente para o problema do _Logaritmo Discreto_, enunciado à seguir:\n",
    "* Seja $p$ um primo (notadamente grande) e $\\=g$ um elemento primitivo de $\\mathbb{Z_p}$. (Elemento primitivo é aquele que obedece $\\left\\{\\=g^0, ... \\=g^{p-2} \\right\\} \\equiv \\left\\{1, ..., p-1 \\right\\} \\in \\mathbb Z_{p}$). Dado $\\=g^k$, determine $k$."
   ]
  },
  {
   "cell_type": "markdown",
   "metadata": {},
   "source": [
    "### O procedimento Diffie-Hellman\n",
    "\n",
    "1. Alice e Bob escolhem um primo $p$ grande e um elemento primitivo $\\=g \\in \\mathbb Z_p$.\n",
    "2. Alice escolhe um inteiro secreto $a \\in \\left\\{1,...,p-1 \\right\\}$ e envia $\\=x = \\=g^a$ ao Bob.\n",
    "3. Bob escolhe um inteiro secreto $b \\in \\left\\{1,...,p-1\\right\\}$ e envia $\\=y = \\=g^b$ à Alice.\n",
    "Com isso, ambos conseguem um valor idêntico ao realizar:\n",
    "$$\n",
    "\\=y^a = (\\=g^b)^a = \\=g^{ab} = (\\=g^a)^b = \\=x^b\n",
    "$$\n",
    "O valor $\\=g^{ab}$ é a chave secreta mutuamente conhecida."
   ]
  },
  {
   "cell_type": "markdown",
   "metadata": {},
   "source": [
    "#### Exemplo\n",
    "Vamos agora exemplificar o funcionamento da criptografia com um pedaço de código:\n",
    "(Note que para QUALQUER valor de $a,\\ b$, com $a, b < p$, a chave continua sendo a mesma.)"
   ]
  },
  {
   "cell_type": "code",
   "execution_count": 42,
   "metadata": {},
   "outputs": [
    {
     "name": "stdout",
     "output_type": "stream",
     "text": [
      "Valor de x: 22, Valor de y: 5\n",
      "Chaves são iguais? True\n",
      "Valor da Chave: 22\n"
     ]
    }
   ],
   "source": [
    "# Supondo o primo escolhido por ambos p = 23 e o primitivo g = 5\n",
    "p = 23\n",
    "g = 5\n",
    "\n",
    "# Alice escolhe a = 10 e Bob b = 20 \n",
    "## ALTERE a E b CONFORME QUISER, SEMPRE MENOR QUE P. ##\n",
    "\n",
    "a = 11\n",
    "b = 23\n",
    "x = 5**a % 23\n",
    "y = 5**b % 23\n",
    "\n",
    "print(f\"Valor de x: {x}, Valor de y: {y}\")\n",
    "\n",
    "# Finalmente:\n",
    "chave_a = y**a % 23\n",
    "chave_b = x**b % 23\n",
    "\n",
    "print(f\"Chaves são iguais? {chave_a == chave_b}\\nValor da Chave: {chave_a}\")"
   ]
  }
 ],
 "metadata": {
  "kernelspec": {
   "display_name": "Python 3.8.10 ('ICD': venv)",
   "language": "python",
   "name": "python3"
  },
  "language_info": {
   "codemirror_mode": {
    "name": "ipython",
    "version": 3
   },
   "file_extension": ".py",
   "mimetype": "text/x-python",
   "name": "python",
   "nbconvert_exporter": "python",
   "pygments_lexer": "ipython3",
   "version": "3.8.10"
  },
  "orig_nbformat": 4,
  "vscode": {
   "interpreter": {
    "hash": "4c824f1dba48131dbca3b5284fcd01757dd976051961761920f7979a38fc38db"
   }
  }
 },
 "nbformat": 4,
 "nbformat_minor": 2
}
