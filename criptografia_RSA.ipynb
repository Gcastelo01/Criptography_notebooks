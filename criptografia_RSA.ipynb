{
 "cells": [
  {
   "cell_type": "markdown",
   "metadata": {},
   "source": [
    "# Criptografia RSA\n",
    "Como toda criptografia, a RSA é um método para troca de mensagens entre dois indivíduos (digamos, Alice e Bob), sem que outos indivíduos consigam compreender o conteúdo da mensagem.\n",
    "\n",
    "## Função $ \\varphi $ de Euller\n",
    "Lembrando aqui que a função $\\varphi$ de Euller é uma função definida como:\n",
    "\n",
    "$$\n",
    "\\varphi(n) = |\\left\\{a \\in \\left\\{1, ..., n\\right\\} | \\ mdc(a, \\ n) = 1\\right\\}|\n",
    "$$\n",
    "\n",
    "Ou seja, é a quantidade de números entre 1 e n que são coprimos com n.\n",
    "É derivável deste teorema a seguinte informação:\n",
    "* Sejam $p$ e $q$ dois primos. Assim:\n",
    "\n",
    "$$\n",
    "\\varphi(pq) = (p - 1)(q-1)\n",
    "$$\n",
    "\n",
    "## Criptografando, parte 1:\n",
    "Para criptografar uma mensagem via RSA, vamos seguir a seguinte sequência de passos\n",
    "\n",
    "1. Bob escolhe $n$ tal que $n$ é produto de dois primos, $p$ e $q$. Note também que $n$ é um número grande.\n",
    "\n",
    "2. Bob também escolhe um número $e \\in \\left\\{2,...,n-1\\right\\}$ tal que $mdc(e, \\varphi(n)) = 1$.\n",
    "  * Logicamente, isso implica que $e$ é inversível módulo $\\varphi(n)$\n",
    "  * Isso vai significar que existe $d\\ |\\ ed\\ \\equiv\\ 1\\ mod\\ (\\varphi(n)) $\n",
    "\n",
    "3. Bob, então, torna público o par $(n, e)$. Esta é conhecida como a **Chave Pública**\n",
    "  * Toda pessoa que desejar enviar uma mensagem sigilosa para Bob terá acesso a este par. \n",
    "  * Bob guarda o par $(\\varphi(n), d)$ em sigilo, portanto esta é conhecida como **Chave Privada** \n",
    "  \n",
    "\n"
   ]
  },
  {
   "cell_type": "markdown",
   "metadata": {},
   "source": [
    "## Criptografando, parte 2:\n",
    "1. Alice deseja enviar uma mensagem, mais especificamente, um númerom, para Bob.\n",
    "  * O número que Alice quer enviar, $b$, fica entre $1$ e $n$.\n",
    "  * Alice calcula então $C(b) = b^e\\ mod\\ n = c$\n",
    "    \n",
    "2. Alice, então, envia $c$ para Bob.\n",
    "\n",
    "3. Bob, tendo recebido $c$, segue para calcular $D(c) = c^d\\ mod\\ n = d$\n",
    "  * Neste caso, $D(c)$ é a mensagem descodificada."
   ]
  },
  {
   "cell_type": "markdown",
   "metadata": {},
   "source": [
    "## Bob escolhe os primos e faz a Chave Pública"
   ]
  },
  {
   "cell_type": "code",
   "execution_count": 2,
   "metadata": {},
   "outputs": [],
   "source": [
    "def codifica_bloco(mesg:str, size=20) -> list:\n",
    "  \"\"\"Função para codificar uma mensagem de acordo com o tamanho do Bloco\"\"\"\n",
    "  \n",
    "  bloco, n =  0, 0\n",
    "  lista = []\n",
    "  l_final = []\n",
    "  \n",
    "  while(n + size <= len(mesg)):\n",
    "    lista.append(mesg[n:n + size])\n",
    "    n += size\n",
    "    \n",
    "  if len(mesg)%size != 0:\n",
    "    blocos_criados = (len(mesg) // size)\n",
    "    lista.append(mesg[(blocos_criados * size):])\n",
    "\n",
    "  for i in lista:\n",
    "    mes = i\n",
    "    \n",
    "    for idx, s in enumerate(mes):\n",
    "      bloco += ord(s) * 256**idx \n",
    "      \n",
    "    l_final.append(bloco)\n",
    "    bloco = 0\n",
    "    \n",
    "  return l_final\n",
    "\n",
    "\n",
    "def decodifica_bloco(num):\n",
    "  \"\"\"Função para descodificar uma mensagem em blocos.\"\"\"\n",
    "  b = []\n",
    "\n",
    "  for i in num:\n",
    "    a = []\n",
    "    c = []\n",
    "    \n",
    "    while i > 0:\n",
    "      a.append(i%256)\n",
    "      i = i//256\n",
    "\n",
    "    \n",
    "    for j in a:\n",
    "      c.append(chr(j))\n",
    "    b.append(str(c).strip().replace(',', '').replace('[', '').replace(']', ' ').replace(\"'\", ''))\n",
    "    \n",
    "  return b\n",
    "\n",
    "# Aqui serão definidas funções\n",
    "\n",
    "def XMDC(a, b):\n",
    "  \"\"\"Algoritmo Extendido de Euclides, para cálculo das equações modulares\"\"\"\n",
    "  x0, x = 1, 0\n",
    "  y0, y = 0, 1\n",
    "  \n",
    "  sign_a, sign_b = 1,  1\n",
    "  if a < 0:\n",
    "    a = -a\n",
    "    sign_a = -1\n",
    "  \n",
    "  if b < 0:\n",
    "    b = -b\n",
    "    sign_b = -1\n",
    "    \n",
    "  while b > 0:\n",
    "    q, r = a//b, a%b\n",
    "    a, b = b, r\n",
    "    \n",
    "    x, x0 = x0 - q * x, x\n",
    "    y, y0 = y0 - q * y, y\n",
    "    \n",
    "  return a, sign_a * x0, sign_b * y0\n",
    "\n",
    "def ExpModN(a, e, n):\n",
    "  \"\"\"Calcula a^e mod n\"\"\"\n",
    "  A, P, E = a, 1, e\n",
    "  while E != 0:\n",
    "    D = E % 2\n",
    "    \n",
    "    if D == 1:\n",
    "      P = (A*P) % n\n",
    "      E = (E-1)//2\n",
    "      \n",
    "    else:\n",
    "      E = E//2\n",
    "      \n",
    "    A = (A*A) % n\n",
    "    \n",
    "  return P\n",
    "\n",
    "def inverso_modular(a, n):\n",
    "  \"\"\"Calcula o inverso modular de a em Zn\"\"\"\n",
    "  d, u, v = XMDC(a, n)\n",
    "  \n",
    "  if d !=1: \n",
    "    return False\n",
    "  \n",
    "  u %= n\n",
    "  \n",
    "  if u < 0: \n",
    "    u += n\n",
    "    \n",
    "  return u\n",
    "\n",
    "criptografa = lambda b, e, n: (b**e) % n\n",
    "descriptografa = lambda c, d, n: (c**d) % n "
   ]
  },
  {
   "cell_type": "code",
   "execution_count": 4,
   "metadata": {},
   "outputs": [
    {
     "data": {
      "text/plain": [
       "53064"
      ]
     },
     "execution_count": 4,
     "metadata": {},
     "output_type": "execute_result"
    }
   ],
   "source": [
    "from random import randint\n",
    "# Demonstração:\n",
    "# 1. Dois primos p e q\n",
    "p = 269\n",
    "q = 199\n",
    "\n",
    "# 2. Calculando n = p * q e E entre {2, n-1} t. q. mdc(e, phi(n)) = 1\n",
    "n = p * q\n",
    "phi_n = (p-1)*(q-1)\n",
    "e = 53 # pois mdc(n, 53) = 1\n",
    "d = inverso_modular(e, phi_n)\n",
    "\n",
    "phi_n"
   ]
  },
  {
   "cell_type": "markdown",
   "metadata": {},
   "source": [
    "## Alice Escreve uma mensagem, codifica e Criptografa"
   ]
  },
  {
   "cell_type": "code",
   "execution_count": 23,
   "metadata": {},
   "outputs": [
    {
     "name": "stdout",
     "output_type": "stream",
     "text": [
      "Mensagem Original: Oi \n",
      "Mensagem Codificada 26959\n",
      "Mensagem Criptografada 37220\n"
     ]
    }
   ],
   "source": [
    "mensagem = \"Oi\" # Mensagem de Alice\n",
    "mensagem_codificada = codifica_bloco(mensagem, 6)[0] #Mensagem codificada\n",
    "mensagem_criptografada = criptografa(mensagem_codificada, e, n)\n",
    "\n",
    "print(f\"\"\"Mensagem Original: {mensagem} \n",
    "Mensagem Codificada {mensagem_codificada}\n",
    "Mensagem Criptografada {mensagem_criptografada}\"\"\")\n"
   ]
  },
  {
   "cell_type": "markdown",
   "metadata": {},
   "source": [
    "## Bob Recebe a mensagem Criptografada e Descriptografa:"
   ]
  },
  {
   "cell_type": "code",
   "execution_count": 26,
   "metadata": {},
   "outputs": [
    {
     "name": "stdout",
     "output_type": "stream",
     "text": [
      "Mensagem Descriptografada: 26959\n",
      "Mensagem Decodificada: ['O i ']\n"
     ]
    }
   ],
   "source": [
    "mensagem_descriptografada = descriptografa(mensagem_criptografada, d, n)\n",
    "mensagem_decodificada = decodifica_bloco([mensagem_descriptografada])\n",
    "\n",
    "print(f\"Mensagem Descriptografada: {mensagem_descriptografada}\\nMensagem Decodificada: {mensagem_decodificada}\")"
   ]
  },
  {
   "cell_type": "markdown",
   "metadata": {},
   "source": [
    "## Porquê isso funciona?\n",
    "\n",
    "Provar que a criptografia RSA funciona é basicamente demonstrar que $D(C(b)) = b$. Provando isso, fica demonstrado que a criptografia funciona.\n",
    "Primeiramente, é necessário verificar o seguinte resultado:\n",
    "$$\n",
    "se C(b) = b^e\\ \\ e\\ \\ D(x) = x^d\\ (mod\\ n) \\therefore D(C(b)) = b^{ed}\n",
    "$$\n",
    "O que verificaremos será a seguinte equivalência:\n",
    "$$\n",
    "b^{ed} \\equiv b\\ mod\\ n \n",
    "$$\n",
    "Ou seja, vamos demonstrar que é possível reverter a mensagem criptografada para a mensagem original sem erros.\n",
    "Por definição, temos que $b^{ed} \\equiv b\\ mod\\ n$ é equivalente a dizer que $n\\ | (b^{ed} - b)$. Como é dado que $n = pq$, o que deve ser provado, em realidade, é que: \n",
    "\n",
    "$$\n",
    "  p\\ | (b^{ed} - b)\\ \\ e \\ \\ q\\ | (b^{ed} - b) \n",
    "$$\n",
    "\n",
    "Se essa condição for cumprida, então a condição original do problema (ou seja, $b^{ed} \\equiv b\\ mod\\ n$) é cumprida, e a criptografia funciona.\n",
    "\n",
    "A demonstração é dividida em duas partes:\n",
    "1. Se $p\\ |\\ b$, então $p\\ |\\ (b^{ed} - b)$ e a afirmação é verdadeira.\n",
    "2. Caso contrário, é necessário relembrar do PTF, que diz que, caso $p$ seja um primo e não divida um número $b$, então $ b^{p-1} \\equiv 1\\ mod\\ p $. Isso vai implicar que $ b^{p-1} \\equiv 1\\ mod\\ p $. \n",
    "    1. Como $ ed \\equiv 1\\ mod\\ \\varphi(n) $, tem-se que\n",
    "    $$\n",
    "    ed = k\\varphi(n)+1 = k(p-1)(q-1) + 1\n",
    "    $$\n",
    "    para algum $k$ inteiro.\n",
    "    2. Então:\n",
    "    $$\n",
    "    b^{ed} = b^{k(p-1)(q-1)+1} = (b^{p-1})^{k(q-1)}*b \\equiv b\\ mod\\ p\n",
    "    $$\n",
    "    Logicamente, $ b^{(p-1)} \\equiv 1\\ mod\\ p$, logo, o resultado acima apenas expressa que $ b \\equiv b\\ mod\\ p $, pois tudo anterior à multiplicação será 1. "
   ]
  }
 ],
 "metadata": {
  "kernelspec": {
   "display_name": "Python 3.8.10 ('ICD': venv)",
   "language": "python",
   "name": "python3"
  },
  "language_info": {
   "codemirror_mode": {
    "name": "ipython",
    "version": 3
   },
   "file_extension": ".py",
   "mimetype": "text/x-python",
   "name": "python",
   "nbconvert_exporter": "python",
   "pygments_lexer": "ipython3",
   "version": "3.8.10"
  },
  "orig_nbformat": 4,
  "vscode": {
   "interpreter": {
    "hash": "4c824f1dba48131dbca3b5284fcd01757dd976051961761920f7979a38fc38db"
   }
  }
 },
 "nbformat": 4,
 "nbformat_minor": 2
}
